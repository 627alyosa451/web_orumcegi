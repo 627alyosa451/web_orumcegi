{
  "cells": [
    {
      "cell_type": "markdown",
      "metadata": {
        "id": "view-in-github",
        "colab_type": "text"
      },
      "source": [
        "<a href=\"https://colab.research.google.com/github/627alyosa451/web_orumcegi/blob/main/web_spyder.ipynb\" target=\"_parent\"><img src=\"https://colab.research.google.com/assets/colab-badge.svg\" alt=\"Open In Colab\"/></a>"
      ]
    },
    {
      "cell_type": "code",
      "execution_count": 3,
      "metadata": {
        "colab": {
          "base_uri": "https://localhost:8080/",
          "height": 128,
          "referenced_widgets": [
            "b39eefa7c70d423ba365004aa19ee0e5",
            "228d6d3cf51349309b618d919be6d6d0",
            "97bf3d0e53324460805a23141bd6bb88",
            "0b04531e6ca74c67974bdefe4d782bbb",
            "62b317c67eac445d9bf29e542c7a99f3",
            "58b234ca0d6642bc934f796e58b0bb04",
            "fe74f4e869414c528e687c0e2663711d",
            "67cf0688596e415f88af50ce8c43c879",
            "b70349450aef445ca654bd37efeeb28d"
          ]
        },
        "id": "DAQWR9V5wTWF",
        "outputId": "275b7ef3-ae98-4f8c-eac5-5b2fa6952cf3",
        "collapsed": true
      },
      "outputs": [
        {
          "output_type": "display_data",
          "data": {
            "text/plain": [
              "Text(value='', description='Başlangıç URL:', placeholder='https://example.com')"
            ],
            "application/vnd.jupyter.widget-view+json": {
              "version_major": 2,
              "version_minor": 0,
              "model_id": "b39eefa7c70d423ba365004aa19ee0e5"
            }
          },
          "metadata": {}
        },
        {
          "output_type": "display_data",
          "data": {
            "text/plain": [
              "IntSlider(value=1, description='Tarama Seviyesi:', max=5, min=1, style=SliderStyle(description_width='initial'…"
            ],
            "application/vnd.jupyter.widget-view+json": {
              "version_major": 2,
              "version_minor": 0,
              "model_id": "0b04531e6ca74c67974bdefe4d782bbb"
            }
          },
          "metadata": {}
        },
        {
          "output_type": "display_data",
          "data": {
            "text/plain": [
              "Button(description='Tarama Başlat', style=ButtonStyle())"
            ],
            "application/vnd.jupyter.widget-view+json": {
              "version_major": 2,
              "version_minor": 0,
              "model_id": "fe74f4e869414c528e687c0e2663711d"
            }
          },
          "metadata": {}
        },
        {
          "output_type": "stream",
          "name": "stdout",
          "text": [
            "Tarama tamamlandı. Sonuçlar tarama_sonuclari.txt dosyasına kaydedildi.\n"
          ]
        }
      ],
      "source": [
        "import requests #\n",
        "from bs4 import BeautifulSoup #\n",
        "from collections import deque\n",
        "import ipywidgets as widgets #\n",
        "from IPython.display import display\n",
        "\n",
        "# Form alanları\n",
        "url_input = widgets.Text(\n",
        "    description='Başlangıç URL:',\n",
        "    placeholder='https://example.com',\n",
        ")\n",
        "\n",
        "depth_input = widgets.IntSlider(\n",
        "    value=1,\n",
        "    min=1,\n",
        "    max=5,\n",
        "    step=1,\n",
        "    description='Tarama Seviyesi:',\n",
        "    style={'description_width': 'initial'},\n",
        ")\n",
        "\n",
        "submit_button = widgets.Button(description=\"Tarama Başlat\")\n",
        "\n",
        "def on_submit(b):\n",
        "    start_url = url_input.value\n",
        "    depth = depth_input.value\n",
        "    web_spider(start_url, depth)\n",
        "\n",
        "submit_button.on_click(on_submit)\n",
        "\n",
        "display(url_input, depth_input, submit_button)\n"
      ]
    },
    {
      "cell_type": "code",
      "execution_count": 4,
      "metadata": {
        "id": "JNn3hfHxwYkk"
      },
      "outputs": [],
      "source": [
        "def web_spider(start_url, max_depth):\n",
        "    visited = set()\n",
        "    queue = deque([(start_url, 0)])  # (url, depth)\n",
        "    results = []\n",
        "\n",
        "    while queue:\n",
        "        url, depth = queue.popleft()\n",
        "\n",
        "        if depth > max_depth:\n",
        "            break\n",
        "\n",
        "        if url in visited:\n",
        "            continue\n",
        "\n",
        "        visited.add(url)\n",
        "\n",
        "        try:\n",
        "            response = requests.get(url)\n",
        "            soup = BeautifulSoup(response.text, 'html.parser')\n",
        "\n",
        "            # Sayfa başlığını al\n",
        "            title = soup.title.string if soup.title else \"Başlık Yok\"\n",
        "            results.append((depth, url, title))\n",
        "\n",
        "            if depth < max_depth:\n",
        "                # Tüm <a> etiketlerini bul\n",
        "                for link in soup.find_all('a', href=True):\n",
        "                    absolute_url = requests.compat.urljoin(url, link['href'])\n",
        "                    if absolute_url not in visited:\n",
        "                        queue.append((absolute_url, depth + 1))\n",
        "        except Exception as e:\n",
        "            print(f\"URL alınamadı: {url} hata: {str(e)}\")\n",
        "\n",
        "    # Sonuçları dosyaya yaz\n",
        "    with open('/content/tarama_sonuclari.txt', 'w') as f:\n",
        "        for depth, url, title in results:\n",
        "            f.write(f\"Seviye {depth}: {url} - Başlık: {title}\\n\")\n",
        "\n",
        "    print(\"Tarama tamamlandı. Sonuçlar tarama_sonuclari.txt dosyasına kaydedildi.\")\n"
      ]
    },
    {
      "cell_type": "code",
      "execution_count": 5,
      "metadata": {
        "colab": {
          "base_uri": "https://localhost:8080/"
        },
        "id": "pLiq34CjwczI",
        "outputId": "c86ca756-3fb0-41c4-c9fe-61f782d17be8"
      },
      "outputs": [
        {
          "output_type": "stream",
          "name": "stdout",
          "text": [
            "Seviye 0: https://www.google.co.uk/ - Başlık: Google\n",
            "Seviye 1: https://www.google.co.uk/imghp?hl=en&tab=wi - Başlık: Google Images\n",
            "Seviye 1: https://maps.google.com/maps?hl=en&tab=wl - Başlık:   Google Maps  \n",
            "Seviye 1: https://play.google.com/?hl=en&tab=w8 - Başlık: Android Apps on Google Play\n",
            "Seviye 1: https://www.youtube.com/?tab=w1 - Başlık: YouTube\n",
            "Seviye 1: https://news.google.com/?tab=wn - Başlık: Google News\n",
            "Seviye 1: https://mail.google.com/mail/?tab=wm - Başlık: Gmail\n",
            "Seviye 1: https://drive.google.com/?tab=wo - Başlık: Google Drive: Sign-in\n",
            "Seviye 1: https://www.google.com/intl/en/about/products?tab=wh - Başlık: Browse All of Google's Products & Services - Google\n",
            "Seviye 1: http://www.google.com/history/optout?hl=en - Başlık: Google - Search Customization\n",
            "Seviye 1: https://www.google.co.uk/preferences?hl=en - Başlık: Search settings\n",
            "Seviye 1: https://accounts.google.com/ServiceLogin?hl=en&passive=true&continue=https://www.google.co.uk/&ec=GAZAAQ - Başlık: Sign in - Google Accounts\n",
            "Seviye 1: https://www.google.co.uk/advanced_search?hl=en&authuser=0 - Başlık: Google Advanced Search\n",
            "Seviye 1: https://www.google.com/url?q=https://www.google.com/search%3Fq%3Dhow%2Bto%2Bvote%2Bin%2Bthe%2Bus%26hl%3Den%26gl%3Dus%26stick%3DH4sIAAAAAAAAAHvE6Mgt8PLHPWEpi0lrTl5jNOISdM1JTS7JzM_zyC8PyQ_LL0kVkuXigAkKCUrxc_Hqp-sbGuaWFeRmZVTl8CxiFc3IL1coyVcoA6pWyMxTKMlIVSgtBgCjAj5eXAAAAA%26utm_source%3Dsearch%26utm_medium%3Dhpp%26utm_campaign%3D15&source=hpp&id=19044350&ct=3&usg=AOvVaw0NE1nkWsjDKIAGJsm73_NG&sa=X&ved=0ahUKEwj-z7GIqJOJAxU5LkQIHbUaGBUQ8IcBCAY - Başlık: how to vote in the us - Google Search\n",
            "Seviye 1: https://www.google.co.uk/intl/en/ads/ - Başlık: \n",
            "      Google Ads - Get Customers and Sell More with Online Advertising\n",
            "    \n",
            "Seviye 1: https://www.google.co.uk/services/ - Başlık: Başlık Yok\n",
            "Seviye 1: https://www.google.co.uk/intl/en/about.html - Başlık: Google - About Google, Our Culture & Company News\n",
            "Seviye 1: https://www.google.co.uk/setprefdomain?prefdom=US&sig=K_sGEgpIZaxWLuJ9Yovrjjl73odLM%3D - Başlık: Google\n",
            "Seviye 1: https://www.google.co.uk/intl/en/policies/privacy/ - Başlık: None\n",
            "Seviye 1: https://www.google.co.uk/intl/en/policies/terms/ - Başlık: None\n",
            "\n"
          ]
        }
      ],
      "source": [
        "# Tarama sonuçlarını görüntüleme\n",
        "with open('/content/tarama_sonuclari.txt', 'r') as f:\n",
        "    print(f.read())\n"
      ]
    }
  ],
  "metadata": {
    "colab": {
      "provenance": [],
      "authorship_tag": "ABX9TyOQNeqP9nxGS5z78jnOOhJi",
      "include_colab_link": true
    },
    "kernelspec": {
      "display_name": "Python 3",
      "name": "python3"
    },
    "language_info": {
      "name": "python"
    },
    "widgets": {
      "application/vnd.jupyter.widget-state+json": {
        "b39eefa7c70d423ba365004aa19ee0e5": {
          "model_module": "@jupyter-widgets/controls",
          "model_name": "TextModel",
          "model_module_version": "1.5.0",
          "state": {
            "_dom_classes": [],
            "_model_module": "@jupyter-widgets/controls",
            "_model_module_version": "1.5.0",
            "_model_name": "TextModel",
            "_view_count": null,
            "_view_module": "@jupyter-widgets/controls",
            "_view_module_version": "1.5.0",
            "_view_name": "TextView",
            "continuous_update": true,
            "description": "Başlangıç URL:",
            "description_tooltip": null,
            "disabled": false,
            "layout": "IPY_MODEL_228d6d3cf51349309b618d919be6d6d0",
            "placeholder": "https://example.com",
            "style": "IPY_MODEL_97bf3d0e53324460805a23141bd6bb88",
            "value": "https://www.google.co.uk/"
          }
        },
        "228d6d3cf51349309b618d919be6d6d0": {
          "model_module": "@jupyter-widgets/base",
          "model_name": "LayoutModel",
          "model_module_version": "1.2.0",
          "state": {
            "_model_module": "@jupyter-widgets/base",
            "_model_module_version": "1.2.0",
            "_model_name": "LayoutModel",
            "_view_count": null,
            "_view_module": "@jupyter-widgets/base",
            "_view_module_version": "1.2.0",
            "_view_name": "LayoutView",
            "align_content": null,
            "align_items": null,
            "align_self": null,
            "border": null,
            "bottom": null,
            "display": null,
            "flex": null,
            "flex_flow": null,
            "grid_area": null,
            "grid_auto_columns": null,
            "grid_auto_flow": null,
            "grid_auto_rows": null,
            "grid_column": null,
            "grid_gap": null,
            "grid_row": null,
            "grid_template_areas": null,
            "grid_template_columns": null,
            "grid_template_rows": null,
            "height": null,
            "justify_content": null,
            "justify_items": null,
            "left": null,
            "margin": null,
            "max_height": null,
            "max_width": null,
            "min_height": null,
            "min_width": null,
            "object_fit": null,
            "object_position": null,
            "order": null,
            "overflow": null,
            "overflow_x": null,
            "overflow_y": null,
            "padding": null,
            "right": null,
            "top": null,
            "visibility": null,
            "width": null
          }
        },
        "97bf3d0e53324460805a23141bd6bb88": {
          "model_module": "@jupyter-widgets/controls",
          "model_name": "DescriptionStyleModel",
          "model_module_version": "1.5.0",
          "state": {
            "_model_module": "@jupyter-widgets/controls",
            "_model_module_version": "1.5.0",
            "_model_name": "DescriptionStyleModel",
            "_view_count": null,
            "_view_module": "@jupyter-widgets/base",
            "_view_module_version": "1.2.0",
            "_view_name": "StyleView",
            "description_width": ""
          }
        },
        "0b04531e6ca74c67974bdefe4d782bbb": {
          "model_module": "@jupyter-widgets/controls",
          "model_name": "IntSliderModel",
          "model_module_version": "1.5.0",
          "state": {
            "_dom_classes": [],
            "_model_module": "@jupyter-widgets/controls",
            "_model_module_version": "1.5.0",
            "_model_name": "IntSliderModel",
            "_view_count": null,
            "_view_module": "@jupyter-widgets/controls",
            "_view_module_version": "1.5.0",
            "_view_name": "IntSliderView",
            "continuous_update": true,
            "description": "Tarama Seviyesi:",
            "description_tooltip": null,
            "disabled": false,
            "layout": "IPY_MODEL_62b317c67eac445d9bf29e542c7a99f3",
            "max": 5,
            "min": 1,
            "orientation": "horizontal",
            "readout": true,
            "readout_format": "d",
            "step": 1,
            "style": "IPY_MODEL_58b234ca0d6642bc934f796e58b0bb04",
            "value": 1
          }
        },
        "62b317c67eac445d9bf29e542c7a99f3": {
          "model_module": "@jupyter-widgets/base",
          "model_name": "LayoutModel",
          "model_module_version": "1.2.0",
          "state": {
            "_model_module": "@jupyter-widgets/base",
            "_model_module_version": "1.2.0",
            "_model_name": "LayoutModel",
            "_view_count": null,
            "_view_module": "@jupyter-widgets/base",
            "_view_module_version": "1.2.0",
            "_view_name": "LayoutView",
            "align_content": null,
            "align_items": null,
            "align_self": null,
            "border": null,
            "bottom": null,
            "display": null,
            "flex": null,
            "flex_flow": null,
            "grid_area": null,
            "grid_auto_columns": null,
            "grid_auto_flow": null,
            "grid_auto_rows": null,
            "grid_column": null,
            "grid_gap": null,
            "grid_row": null,
            "grid_template_areas": null,
            "grid_template_columns": null,
            "grid_template_rows": null,
            "height": null,
            "justify_content": null,
            "justify_items": null,
            "left": null,
            "margin": null,
            "max_height": null,
            "max_width": null,
            "min_height": null,
            "min_width": null,
            "object_fit": null,
            "object_position": null,
            "order": null,
            "overflow": null,
            "overflow_x": null,
            "overflow_y": null,
            "padding": null,
            "right": null,
            "top": null,
            "visibility": null,
            "width": null
          }
        },
        "58b234ca0d6642bc934f796e58b0bb04": {
          "model_module": "@jupyter-widgets/controls",
          "model_name": "SliderStyleModel",
          "model_module_version": "1.5.0",
          "state": {
            "_model_module": "@jupyter-widgets/controls",
            "_model_module_version": "1.5.0",
            "_model_name": "SliderStyleModel",
            "_view_count": null,
            "_view_module": "@jupyter-widgets/base",
            "_view_module_version": "1.2.0",
            "_view_name": "StyleView",
            "description_width": "initial",
            "handle_color": null
          }
        },
        "fe74f4e869414c528e687c0e2663711d": {
          "model_module": "@jupyter-widgets/controls",
          "model_name": "ButtonModel",
          "model_module_version": "1.5.0",
          "state": {
            "_dom_classes": [],
            "_model_module": "@jupyter-widgets/controls",
            "_model_module_version": "1.5.0",
            "_model_name": "ButtonModel",
            "_view_count": null,
            "_view_module": "@jupyter-widgets/controls",
            "_view_module_version": "1.5.0",
            "_view_name": "ButtonView",
            "button_style": "",
            "description": "Tarama Başlat",
            "disabled": false,
            "icon": "",
            "layout": "IPY_MODEL_67cf0688596e415f88af50ce8c43c879",
            "style": "IPY_MODEL_b70349450aef445ca654bd37efeeb28d",
            "tooltip": ""
          }
        },
        "67cf0688596e415f88af50ce8c43c879": {
          "model_module": "@jupyter-widgets/base",
          "model_name": "LayoutModel",
          "model_module_version": "1.2.0",
          "state": {
            "_model_module": "@jupyter-widgets/base",
            "_model_module_version": "1.2.0",
            "_model_name": "LayoutModel",
            "_view_count": null,
            "_view_module": "@jupyter-widgets/base",
            "_view_module_version": "1.2.0",
            "_view_name": "LayoutView",
            "align_content": null,
            "align_items": null,
            "align_self": null,
            "border": null,
            "bottom": null,
            "display": null,
            "flex": null,
            "flex_flow": null,
            "grid_area": null,
            "grid_auto_columns": null,
            "grid_auto_flow": null,
            "grid_auto_rows": null,
            "grid_column": null,
            "grid_gap": null,
            "grid_row": null,
            "grid_template_areas": null,
            "grid_template_columns": null,
            "grid_template_rows": null,
            "height": null,
            "justify_content": null,
            "justify_items": null,
            "left": null,
            "margin": null,
            "max_height": null,
            "max_width": null,
            "min_height": null,
            "min_width": null,
            "object_fit": null,
            "object_position": null,
            "order": null,
            "overflow": null,
            "overflow_x": null,
            "overflow_y": null,
            "padding": null,
            "right": null,
            "top": null,
            "visibility": null,
            "width": null
          }
        },
        "b70349450aef445ca654bd37efeeb28d": {
          "model_module": "@jupyter-widgets/controls",
          "model_name": "ButtonStyleModel",
          "model_module_version": "1.5.0",
          "state": {
            "_model_module": "@jupyter-widgets/controls",
            "_model_module_version": "1.5.0",
            "_model_name": "ButtonStyleModel",
            "_view_count": null,
            "_view_module": "@jupyter-widgets/base",
            "_view_module_version": "1.2.0",
            "_view_name": "StyleView",
            "button_color": null,
            "font_weight": ""
          }
        }
      }
    }
  },
  "nbformat": 4,
  "nbformat_minor": 0
}