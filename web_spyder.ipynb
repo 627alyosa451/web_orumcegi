{
  "cells": [
    {
      "cell_type": "markdown",
      "metadata": {
        "id": "view-in-github",
        "colab_type": "text"
      },
      "source": [
        "<a href=\"https://colab.research.google.com/github/627alyosa451/web_orumcegi/blob/main/web_spyder.ipynb\" target=\"_parent\"><img src=\"https://colab.research.google.com/assets/colab-badge.svg\" alt=\"Open In Colab\"/></a>"
      ]
    },
    {
      "cell_type": "code",
      "execution_count": 1,
      "metadata": {
        "colab": {
          "base_uri": "https://localhost:8080/",
          "height": 354,
          "referenced_widgets": [
            "6be6f4903e7148daa307dcd78a636c34",
            "27a45e5c8f9243f995e939bc16c60f53",
            "a84dde2166f5496fa65d5e67a0481812",
            "02cf13e0cc6d46f387fca03e701f0a56",
            "8d737320e9e74de88ccc8c27fb334119",
            "425654009aa3426bbeac666bda837250",
            "e8361e300817412fa9f73ea763fe0f7b",
            "9152c84919bc4fabb650c6a831674f4b",
            "4266b984bbbc4ff7b349ececd1825bf4"
          ]
        },
        "id": "DAQWR9V5wTWF",
        "outputId": "c34c5e99-fd91-4d90-a096-8bebef7fb83c",
        "collapsed": true
      },
      "outputs": [
        {
          "output_type": "display_data",
          "data": {
            "text/plain": [
              "Text(value='', description='Başlangıç URL:', placeholder='https://example.com')"
            ],
            "application/vnd.jupyter.widget-view+json": {
              "version_major": 2,
              "version_minor": 0,
              "model_id": "6be6f4903e7148daa307dcd78a636c34"
            }
          },
          "metadata": {}
        },
        {
          "output_type": "display_data",
          "data": {
            "text/plain": [
              "IntSlider(value=1, description='Tarama Seviyesi:', max=5, min=1, style=SliderStyle(description_width='initial'…"
            ],
            "application/vnd.jupyter.widget-view+json": {
              "version_major": 2,
              "version_minor": 0,
              "model_id": "02cf13e0cc6d46f387fca03e701f0a56"
            }
          },
          "metadata": {}
        },
        {
          "output_type": "display_data",
          "data": {
            "text/plain": [
              "Button(description='Tarama Başlat', style=ButtonStyle())"
            ],
            "application/vnd.jupyter.widget-view+json": {
              "version_major": 2,
              "version_minor": 0,
              "model_id": "e8361e300817412fa9f73ea763fe0f7b"
            }
          },
          "metadata": {}
        },
        {
          "output_type": "stream",
          "name": "stdout",
          "text": [
            "URL alınamadı: about:invalid#zjslayoutz hata: No connection adapters were found for 'about:invalid#zjslayoutz'\n",
            "URL alınamadı: mailto:support@playrix.com hata: No connection adapters were found for 'mailto:support@playrix.com'\n",
            "URL alınamadı: mailto:candycrush.techhelp@king.com hata: No connection adapters were found for 'mailto:candycrush.techhelp@king.com'\n",
            "URL alınamadı: mailto:zzz_cs@hoyoverse.com hata: No connection adapters were found for 'mailto:zzz_cs@hoyoverse.com'\n",
            "URL alınamadı: mailto:tlwsupport@tocaboca.com hata: No connection adapters were found for 'mailto:tlwsupport@tocaboca.com'\n",
            "URL alınamadı: mailto:mysingingmonsters@bbbsupport.com hata: No connection adapters were found for 'mailto:mysingingmonsters@bbbsupport.com'\n",
            "URL alınamadı: mailto:support@monopolygo.com hata: No connection adapters were found for 'mailto:support@monopolygo.com'\n",
            "URL alınamadı: mailto:contact@kabam.com hata: No connection adapters were found for 'mailto:contact@kabam.com'\n",
            "URL alınamadı: mailto:ww_gp_dragonball-legends_ad@net.bandai.co.jp hata: No connection adapters were found for 'mailto:ww_gp_dragonball-legends_ad@net.bandai.co.jp'\n",
            "URL alınamadı: mailto:info@roblox.com hata: No connection adapters were found for 'mailto:info@roblox.com'\n",
            "URL alınamadı: mailto:freefire@garena.com hata: No connection adapters were found for 'mailto:freefire@garena.com'\n",
            "URL alınamadı: mailto:gp-info@supercell.com hata: No connection adapters were found for 'mailto:gp-info@supercell.com'\n",
            "URL alınamadı: mailto:help_subwaysurf@sybogames.com hata: No connection adapters were found for 'mailto:help_subwaysurf@sybogames.com'\n",
            "URL alınamadı: mailto:support@superplay.co hata: No connection adapters were found for 'mailto:support@superplay.co'\n"
          ]
        }
      ],
      "source": [
        "import requests #\n",
        "from bs4 import BeautifulSoup #\n",
        "from collections import deque\n",
        "import ipywidgets as widgets #\n",
        "from IPython.display import display\n",
        "\n",
        "# Form alanları\n",
        "url_input = widgets.Text(\n",
        "    description='Başlangıç URL:',\n",
        "    placeholder='https://example.com',\n",
        ")\n",
        "\n",
        "depth_input = widgets.IntSlider(\n",
        "    value=1,\n",
        "    min=1,\n",
        "    max=5,\n",
        "    step=1,\n",
        "    description='Tarama Seviyesi:',\n",
        "    style={'description_width': 'initial'},\n",
        ")\n",
        "\n",
        "submit_button = widgets.Button(description=\"Tarama Başlat\")\n",
        "\n",
        "def on_submit(b):\n",
        "    start_url = url_input.value\n",
        "    depth = depth_input.value\n",
        "    web_spider(start_url, depth)\n",
        "\n",
        "submit_button.on_click(on_submit)\n",
        "\n",
        "display(url_input, depth_input, submit_button)\n"
      ]
    },
    {
      "cell_type": "code",
      "execution_count": 2,
      "metadata": {
        "id": "JNn3hfHxwYkk"
      },
      "outputs": [],
      "source": [
        "def web_spider(start_url, max_depth):\n",
        "    visited = set()\n",
        "    queue = deque([(start_url, 0)])  # (url, depth)\n",
        "    results = []\n",
        "\n",
        "    while queue:\n",
        "        url, depth = queue.popleft()\n",
        "\n",
        "        if depth > max_depth:\n",
        "            break\n",
        "\n",
        "        if url in visited:\n",
        "            continue\n",
        "\n",
        "        visited.add(url)\n",
        "\n",
        "        try:\n",
        "            response = requests.get(url)\n",
        "            soup = BeautifulSoup(response.text, 'html.parser')\n",
        "\n",
        "            # Sayfa başlığını al\n",
        "            title = soup.title.string if soup.title else \"Başlık Yok\"\n",
        "            results.append((depth, url, title))\n",
        "\n",
        "            if depth < max_depth:\n",
        "                # Tüm <a> etiketlerini bul\n",
        "                for link in soup.find_all('a', href=True):\n",
        "                    absolute_url = requests.compat.urljoin(url, link['href'])\n",
        "                    if absolute_url not in visited:\n",
        "                        queue.append((absolute_url, depth + 1))\n",
        "        except Exception as e:\n",
        "            print(f\"URL alınamadı: {url} hata: {str(e)}\")\n",
        "\n",
        "    # Sonuçları dosyaya yaz\n",
        "    with open('/content/tarama_sonuclari.txt', 'w') as f:\n",
        "        for depth, url, title in results:\n",
        "            f.write(f\"Seviye {depth}: {url} - Başlık: {title}\\n\")\n",
        "\n",
        "    print(\"Tarama tamamlandı. Sonuçlar tarama_sonuclari.txt dosyasına kaydedildi.\")\n"
      ]
    },
    {
      "cell_type": "code",
      "execution_count": null,
      "metadata": {
        "id": "pLiq34CjwczI"
      },
      "outputs": [],
      "source": [
        "# Tarama sonuçlarını görüntüleme\n",
        "with open('/content/tarama_sonuclari.txt', 'r') as f:\n",
        "    print(f.read())\n"
      ]
    }
  ],
  "metadata": {
    "colab": {
      "provenance": [],
      "authorship_tag": "ABX9TyOQNeqP9nxGS5z78jnOOhJi",
      "include_colab_link": true
    },
    "kernelspec": {
      "display_name": "Python 3",
      "name": "python3"
    },
    "language_info": {
      "name": "python"
    },
    "widgets": {
      "application/vnd.jupyter.widget-state+json": {
        "6be6f4903e7148daa307dcd78a636c34": {
          "model_module": "@jupyter-widgets/controls",
          "model_name": "TextModel",
          "model_module_version": "1.5.0",
          "state": {
            "_dom_classes": [],
            "_model_module": "@jupyter-widgets/controls",
            "_model_module_version": "1.5.0",
            "_model_name": "TextModel",
            "_view_count": null,
            "_view_module": "@jupyter-widgets/controls",
            "_view_module_version": "1.5.0",
            "_view_name": "TextView",
            "continuous_update": true,
            "description": "Başlangıç URL:",
            "description_tooltip": null,
            "disabled": false,
            "layout": "IPY_MODEL_27a45e5c8f9243f995e939bc16c60f53",
            "placeholder": "https://example.com",
            "style": "IPY_MODEL_a84dde2166f5496fa65d5e67a0481812",
            "value": "https://www.google.co.uk/"
          }
        },
        "27a45e5c8f9243f995e939bc16c60f53": {
          "model_module": "@jupyter-widgets/base",
          "model_name": "LayoutModel",
          "model_module_version": "1.2.0",
          "state": {
            "_model_module": "@jupyter-widgets/base",
            "_model_module_version": "1.2.0",
            "_model_name": "LayoutModel",
            "_view_count": null,
            "_view_module": "@jupyter-widgets/base",
            "_view_module_version": "1.2.0",
            "_view_name": "LayoutView",
            "align_content": null,
            "align_items": null,
            "align_self": null,
            "border": null,
            "bottom": null,
            "display": null,
            "flex": null,
            "flex_flow": null,
            "grid_area": null,
            "grid_auto_columns": null,
            "grid_auto_flow": null,
            "grid_auto_rows": null,
            "grid_column": null,
            "grid_gap": null,
            "grid_row": null,
            "grid_template_areas": null,
            "grid_template_columns": null,
            "grid_template_rows": null,
            "height": null,
            "justify_content": null,
            "justify_items": null,
            "left": null,
            "margin": null,
            "max_height": null,
            "max_width": null,
            "min_height": null,
            "min_width": null,
            "object_fit": null,
            "object_position": null,
            "order": null,
            "overflow": null,
            "overflow_x": null,
            "overflow_y": null,
            "padding": null,
            "right": null,
            "top": null,
            "visibility": null,
            "width": null
          }
        },
        "a84dde2166f5496fa65d5e67a0481812": {
          "model_module": "@jupyter-widgets/controls",
          "model_name": "DescriptionStyleModel",
          "model_module_version": "1.5.0",
          "state": {
            "_model_module": "@jupyter-widgets/controls",
            "_model_module_version": "1.5.0",
            "_model_name": "DescriptionStyleModel",
            "_view_count": null,
            "_view_module": "@jupyter-widgets/base",
            "_view_module_version": "1.2.0",
            "_view_name": "StyleView",
            "description_width": ""
          }
        },
        "02cf13e0cc6d46f387fca03e701f0a56": {
          "model_module": "@jupyter-widgets/controls",
          "model_name": "IntSliderModel",
          "model_module_version": "1.5.0",
          "state": {
            "_dom_classes": [],
            "_model_module": "@jupyter-widgets/controls",
            "_model_module_version": "1.5.0",
            "_model_name": "IntSliderModel",
            "_view_count": null,
            "_view_module": "@jupyter-widgets/controls",
            "_view_module_version": "1.5.0",
            "_view_name": "IntSliderView",
            "continuous_update": true,
            "description": "Tarama Seviyesi:",
            "description_tooltip": null,
            "disabled": false,
            "layout": "IPY_MODEL_8d737320e9e74de88ccc8c27fb334119",
            "max": 5,
            "min": 1,
            "orientation": "horizontal",
            "readout": true,
            "readout_format": "d",
            "step": 1,
            "style": "IPY_MODEL_425654009aa3426bbeac666bda837250",
            "value": 2
          }
        },
        "8d737320e9e74de88ccc8c27fb334119": {
          "model_module": "@jupyter-widgets/base",
          "model_name": "LayoutModel",
          "model_module_version": "1.2.0",
          "state": {
            "_model_module": "@jupyter-widgets/base",
            "_model_module_version": "1.2.0",
            "_model_name": "LayoutModel",
            "_view_count": null,
            "_view_module": "@jupyter-widgets/base",
            "_view_module_version": "1.2.0",
            "_view_name": "LayoutView",
            "align_content": null,
            "align_items": null,
            "align_self": null,
            "border": null,
            "bottom": null,
            "display": null,
            "flex": null,
            "flex_flow": null,
            "grid_area": null,
            "grid_auto_columns": null,
            "grid_auto_flow": null,
            "grid_auto_rows": null,
            "grid_column": null,
            "grid_gap": null,
            "grid_row": null,
            "grid_template_areas": null,
            "grid_template_columns": null,
            "grid_template_rows": null,
            "height": null,
            "justify_content": null,
            "justify_items": null,
            "left": null,
            "margin": null,
            "max_height": null,
            "max_width": null,
            "min_height": null,
            "min_width": null,
            "object_fit": null,
            "object_position": null,
            "order": null,
            "overflow": null,
            "overflow_x": null,
            "overflow_y": null,
            "padding": null,
            "right": null,
            "top": null,
            "visibility": null,
            "width": null
          }
        },
        "425654009aa3426bbeac666bda837250": {
          "model_module": "@jupyter-widgets/controls",
          "model_name": "SliderStyleModel",
          "model_module_version": "1.5.0",
          "state": {
            "_model_module": "@jupyter-widgets/controls",
            "_model_module_version": "1.5.0",
            "_model_name": "SliderStyleModel",
            "_view_count": null,
            "_view_module": "@jupyter-widgets/base",
            "_view_module_version": "1.2.0",
            "_view_name": "StyleView",
            "description_width": "initial",
            "handle_color": null
          }
        },
        "e8361e300817412fa9f73ea763fe0f7b": {
          "model_module": "@jupyter-widgets/controls",
          "model_name": "ButtonModel",
          "model_module_version": "1.5.0",
          "state": {
            "_dom_classes": [],
            "_model_module": "@jupyter-widgets/controls",
            "_model_module_version": "1.5.0",
            "_model_name": "ButtonModel",
            "_view_count": null,
            "_view_module": "@jupyter-widgets/controls",
            "_view_module_version": "1.5.0",
            "_view_name": "ButtonView",
            "button_style": "",
            "description": "Tarama Başlat",
            "disabled": false,
            "icon": "",
            "layout": "IPY_MODEL_9152c84919bc4fabb650c6a831674f4b",
            "style": "IPY_MODEL_4266b984bbbc4ff7b349ececd1825bf4",
            "tooltip": ""
          }
        },
        "9152c84919bc4fabb650c6a831674f4b": {
          "model_module": "@jupyter-widgets/base",
          "model_name": "LayoutModel",
          "model_module_version": "1.2.0",
          "state": {
            "_model_module": "@jupyter-widgets/base",
            "_model_module_version": "1.2.0",
            "_model_name": "LayoutModel",
            "_view_count": null,
            "_view_module": "@jupyter-widgets/base",
            "_view_module_version": "1.2.0",
            "_view_name": "LayoutView",
            "align_content": null,
            "align_items": null,
            "align_self": null,
            "border": null,
            "bottom": null,
            "display": null,
            "flex": null,
            "flex_flow": null,
            "grid_area": null,
            "grid_auto_columns": null,
            "grid_auto_flow": null,
            "grid_auto_rows": null,
            "grid_column": null,
            "grid_gap": null,
            "grid_row": null,
            "grid_template_areas": null,
            "grid_template_columns": null,
            "grid_template_rows": null,
            "height": null,
            "justify_content": null,
            "justify_items": null,
            "left": null,
            "margin": null,
            "max_height": null,
            "max_width": null,
            "min_height": null,
            "min_width": null,
            "object_fit": null,
            "object_position": null,
            "order": null,
            "overflow": null,
            "overflow_x": null,
            "overflow_y": null,
            "padding": null,
            "right": null,
            "top": null,
            "visibility": null,
            "width": null
          }
        },
        "4266b984bbbc4ff7b349ececd1825bf4": {
          "model_module": "@jupyter-widgets/controls",
          "model_name": "ButtonStyleModel",
          "model_module_version": "1.5.0",
          "state": {
            "_model_module": "@jupyter-widgets/controls",
            "_model_module_version": "1.5.0",
            "_model_name": "ButtonStyleModel",
            "_view_count": null,
            "_view_module": "@jupyter-widgets/base",
            "_view_module_version": "1.2.0",
            "_view_name": "StyleView",
            "button_color": null,
            "font_weight": ""
          }
        }
      }
    }
  },
  "nbformat": 4,
  "nbformat_minor": 0
}