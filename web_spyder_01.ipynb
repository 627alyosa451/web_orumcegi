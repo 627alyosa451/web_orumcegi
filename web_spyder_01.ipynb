{
  "cells": [
    {
      "cell_type": "markdown",
      "metadata": {
        "id": "view-in-github",
        "colab_type": "text"
      },
      "source": [
        "<a href=\"https://colab.research.google.com/github/627alyosa451/web_orumcegi/blob/main/web_spyder_01.ipynb\" target=\"_parent\"><img src=\"https://colab.research.google.com/assets/colab-badge.svg\" alt=\"Open In Colab\"/></a>"
      ]
    },
    {
      "cell_type": "code",
      "source": [
        "import requests\n",
        "from bs4 import BeautifulSoup\n",
        "import ipywidgets as widgets\n",
        "from IPython.display import display"
      ],
      "metadata": {
        "id": "1Xwryis1QF4e"
      },
      "execution_count": 2,
      "outputs": []
    },
    {
      "cell_type": "code",
      "execution_count": 7,
      "metadata": {
        "colab": {
          "base_uri": "https://localhost:8080/",
          "height": 185,
          "referenced_widgets": [
            "3a36ddcd9bbe443c92054246992c712e",
            "b23a018103614c91b65132fef9ce4514",
            "457d6c66aa5045b6a4cb1e5704940e72",
            "b4b1e8b887c54f8691eb526a77be03b2",
            "44123aadc75846b981a4a20bd0125d7a",
            "95fe2efc716349df935154f4697fcda2"
          ]
        },
        "id": "DAQWR9V5wTWF",
        "outputId": "b32727d9-1b74-46fc-d8b9-4f0489bb0c79",
        "collapsed": true
      },
      "outputs": [
        {
          "output_type": "display_data",
          "data": {
            "text/plain": [
              "Text(value='https://')"
            ],
            "application/vnd.jupyter.widget-view+json": {
              "version_major": 2,
              "version_minor": 0,
              "model_id": "3a36ddcd9bbe443c92054246992c712e"
            }
          },
          "metadata": {}
        },
        {
          "output_type": "display_data",
          "data": {
            "text/plain": [
              "Button(description='Taramayı başlat!', style=ButtonStyle())"
            ],
            "application/vnd.jupyter.widget-view+json": {
              "version_major": 2,
              "version_minor": 0,
              "model_id": "b4b1e8b887c54f8691eb526a77be03b2"
            }
          },
          "metadata": {}
        },
        {
          "output_type": "stream",
          "name": "stdout",
          "text": [
            "Button(description='Taramayı başlat!', style=ButtonStyle())\n",
            "Google Colab\n",
            "Button(description='Taramayı başlat!', style=ButtonStyle())\n",
            "Google Colab\n",
            "Button(description='Taramayı başlat!', style=ButtonStyle())\n",
            "R. Orçun Madran – Akademisyen | Aktivist | Triatlet\n"
          ]
        }
      ],
      "source": [
        "url = widgets.Text(value=\"https://\", description=\"\")\n",
        "display(url)\n",
        "\n",
        "buton = widgets.Button(description=\"Taramayı başlat!\")\n",
        "display(buton)\n",
        "                                                            ## butona bastığımızda hangi işlemi yapmasını istiyorsak onu fonksiyon altına alıyoruz ##\n",
        "                                                            ## x argümanı fonksiyonun çalışması için gerekiyor, nedenini henüz anlamadım ##\n",
        "def tarama(x):\n",
        "  print(x)\n",
        "  alan_adi = requests.get(url.value).text\n",
        "\n",
        "  soup = BeautifulSoup(alan_adi, 'html.parser')\n",
        "\n",
        "  if soup.title:\n",
        "    print(soup.title.string)\n",
        "  else:\n",
        "    print(\"Hata! URL'nin html kodları doğrudan alınamıyor. web.txt dosyasını kontrol edebilirsiniz\")\n",
        "\n",
        "  for link in soup.find_all(\"a\"):\n",
        "    ekle = link.get(\"href\")\n",
        "    if ekle.startswith(\"http\"):\n",
        "      alan_adi1 = requests.get(ekle).text\n",
        "      islenmis = BeautifulSoup(alan_adi1, \"html.parser\")\n",
        "      if islenmis.title:\n",
        "        tanimlayici = islenmis.title.string\n",
        "      f = open(\"/content/web.txt\", \"a\")\n",
        "      f.write(f\"{tanimlayici} - {ekle} \\n\")\n",
        "\n",
        "buton.on_click(tarama)"
      ]
    }
  ],
  "metadata": {
    "colab": {
      "provenance": [],
      "authorship_tag": "ABX9TyNJdlVZ98mCaiBrdMUPqWTz",
      "include_colab_link": true
    },
    "kernelspec": {
      "display_name": "Python 3",
      "name": "python3"
    },
    "language_info": {
      "name": "python"
    },
    "widgets": {
      "application/vnd.jupyter.widget-state+json": {
        "3a36ddcd9bbe443c92054246992c712e": {
          "model_module": "@jupyter-widgets/controls",
          "model_name": "TextModel",
          "model_module_version": "1.5.0",
          "state": {
            "_dom_classes": [],
            "_model_module": "@jupyter-widgets/controls",
            "_model_module_version": "1.5.0",
            "_model_name": "TextModel",
            "_view_count": null,
            "_view_module": "@jupyter-widgets/controls",
            "_view_module_version": "1.5.0",
            "_view_name": "TextView",
            "continuous_update": true,
            "description": "",
            "description_tooltip": null,
            "disabled": false,
            "layout": "IPY_MODEL_b23a018103614c91b65132fef9ce4514",
            "placeholder": "​",
            "style": "IPY_MODEL_457d6c66aa5045b6a4cb1e5704940e72",
            "value": "https://madran.net"
          }
        },
        "b23a018103614c91b65132fef9ce4514": {
          "model_module": "@jupyter-widgets/base",
          "model_name": "LayoutModel",
          "model_module_version": "1.2.0",
          "state": {
            "_model_module": "@jupyter-widgets/base",
            "_model_module_version": "1.2.0",
            "_model_name": "LayoutModel",
            "_view_count": null,
            "_view_module": "@jupyter-widgets/base",
            "_view_module_version": "1.2.0",
            "_view_name": "LayoutView",
            "align_content": null,
            "align_items": null,
            "align_self": null,
            "border": null,
            "bottom": null,
            "display": null,
            "flex": null,
            "flex_flow": null,
            "grid_area": null,
            "grid_auto_columns": null,
            "grid_auto_flow": null,
            "grid_auto_rows": null,
            "grid_column": null,
            "grid_gap": null,
            "grid_row": null,
            "grid_template_areas": null,
            "grid_template_columns": null,
            "grid_template_rows": null,
            "height": null,
            "justify_content": null,
            "justify_items": null,
            "left": null,
            "margin": null,
            "max_height": null,
            "max_width": null,
            "min_height": null,
            "min_width": null,
            "object_fit": null,
            "object_position": null,
            "order": null,
            "overflow": null,
            "overflow_x": null,
            "overflow_y": null,
            "padding": null,
            "right": null,
            "top": null,
            "visibility": null,
            "width": null
          }
        },
        "457d6c66aa5045b6a4cb1e5704940e72": {
          "model_module": "@jupyter-widgets/controls",
          "model_name": "DescriptionStyleModel",
          "model_module_version": "1.5.0",
          "state": {
            "_model_module": "@jupyter-widgets/controls",
            "_model_module_version": "1.5.0",
            "_model_name": "DescriptionStyleModel",
            "_view_count": null,
            "_view_module": "@jupyter-widgets/base",
            "_view_module_version": "1.2.0",
            "_view_name": "StyleView",
            "description_width": ""
          }
        },
        "b4b1e8b887c54f8691eb526a77be03b2": {
          "model_module": "@jupyter-widgets/controls",
          "model_name": "ButtonModel",
          "model_module_version": "1.5.0",
          "state": {
            "_dom_classes": [],
            "_model_module": "@jupyter-widgets/controls",
            "_model_module_version": "1.5.0",
            "_model_name": "ButtonModel",
            "_view_count": null,
            "_view_module": "@jupyter-widgets/controls",
            "_view_module_version": "1.5.0",
            "_view_name": "ButtonView",
            "button_style": "",
            "description": "Taramayı başlat!",
            "disabled": false,
            "icon": "",
            "layout": "IPY_MODEL_44123aadc75846b981a4a20bd0125d7a",
            "style": "IPY_MODEL_95fe2efc716349df935154f4697fcda2",
            "tooltip": ""
          }
        },
        "44123aadc75846b981a4a20bd0125d7a": {
          "model_module": "@jupyter-widgets/base",
          "model_name": "LayoutModel",
          "model_module_version": "1.2.0",
          "state": {
            "_model_module": "@jupyter-widgets/base",
            "_model_module_version": "1.2.0",
            "_model_name": "LayoutModel",
            "_view_count": null,
            "_view_module": "@jupyter-widgets/base",
            "_view_module_version": "1.2.0",
            "_view_name": "LayoutView",
            "align_content": null,
            "align_items": null,
            "align_self": null,
            "border": null,
            "bottom": null,
            "display": null,
            "flex": null,
            "flex_flow": null,
            "grid_area": null,
            "grid_auto_columns": null,
            "grid_auto_flow": null,
            "grid_auto_rows": null,
            "grid_column": null,
            "grid_gap": null,
            "grid_row": null,
            "grid_template_areas": null,
            "grid_template_columns": null,
            "grid_template_rows": null,
            "height": null,
            "justify_content": null,
            "justify_items": null,
            "left": null,
            "margin": null,
            "max_height": null,
            "max_width": null,
            "min_height": null,
            "min_width": null,
            "object_fit": null,
            "object_position": null,
            "order": null,
            "overflow": null,
            "overflow_x": null,
            "overflow_y": null,
            "padding": null,
            "right": null,
            "top": null,
            "visibility": null,
            "width": null
          }
        },
        "95fe2efc716349df935154f4697fcda2": {
          "model_module": "@jupyter-widgets/controls",
          "model_name": "ButtonStyleModel",
          "model_module_version": "1.5.0",
          "state": {
            "_model_module": "@jupyter-widgets/controls",
            "_model_module_version": "1.5.0",
            "_model_name": "ButtonStyleModel",
            "_view_count": null,
            "_view_module": "@jupyter-widgets/base",
            "_view_module_version": "1.2.0",
            "_view_name": "StyleView",
            "button_color": null,
            "font_weight": ""
          }
        }
      }
    }
  },
  "nbformat": 4,
  "nbformat_minor": 0
}